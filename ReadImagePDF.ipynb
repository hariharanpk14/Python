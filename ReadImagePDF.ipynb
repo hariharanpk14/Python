{
 "cells": [
  {
   "cell_type": "code",
   "execution_count": 1,
   "id": "horizontal-speech",
   "metadata": {},
   "outputs": [],
   "source": [
    "import os\n",
    "from PIL import Image\n",
    "from pdf2image import convert_from_path\n",
    "import pytesseract"
   ]
  },
  {
   "cell_type": "code",
   "execution_count": 2,
   "id": "super-assembly",
   "metadata": {},
   "outputs": [],
   "source": [
    "filePath = 'C:\\\\*\\\\*.pdf'\n",
    "doc = convert_from_path(filePath,500)\n",
    "image_counter=1\n",
    "for page in doc:\n",
    "    filename = \"page_\"+str(image_counter)+\".jpg\"\n",
    "    page.save(filename, 'JPEG')\n",
    "    image_counter = image_counter + 1"
   ]
  },
  {
   "cell_type": "code",
   "execution_count": 3,
   "id": "rising-routine",
   "metadata": {},
   "outputs": [],
   "source": [
    "filelimit = image_counter-1\n",
    "outfile = \"out_text.txt\"\n",
    "f = open(outfile, \"a\")\n",
    "for i in range(1, filelimit + 1):\n",
    "    filename = \"page_\"+str(i)+\".jpg\"\n",
    "    text = str(((pytesseract.image_to_string(Image.open(filename)))))\n",
    "    text = text.replace('-\\n', '')    \n",
    "    f.write(text)\n",
    "f.close()"
   ]
  },
  {
   "cell_type": "code",
   "execution_count": null,
   "id": "modern-sierra",
   "metadata": {},
   "outputs": [],
   "source": []
  }
 ],
 "metadata": {
  "kernelspec": {
   "display_name": "Python 3",
   "language": "python",
   "name": "python3"
  },
  "language_info": {
   "codemirror_mode": {
    "name": "ipython",
    "version": 3
   },
   "file_extension": ".py",
   "mimetype": "text/x-python",
   "name": "python",
   "nbconvert_exporter": "python",
   "pygments_lexer": "ipython3",
   "version": "3.7.8"
  }
 },
 "nbformat": 4,
 "nbformat_minor": 5
}
