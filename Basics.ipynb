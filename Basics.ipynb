{
 "cells": [
  {
   "cell_type": "code",
   "execution_count": 1,
   "id": "solid-commission",
   "metadata": {},
   "outputs": [
    {
     "name": "stdout",
     "output_type": "stream",
     "text": [
      "Hello World!!\n"
     ]
    }
   ],
   "source": [
    "print(\"Hello World!!\")"
   ]
  },
  {
   "cell_type": "code",
   "execution_count": 7,
   "id": "present-college",
   "metadata": {},
   "outputs": [
    {
     "name": "stdout",
     "output_type": "stream",
     "text": [
      "30\n",
      "-10\n",
      "200\n",
      "0.5\n"
     ]
    }
   ],
   "source": [
    "def MathFunction(A,B,Operator):\n",
    "    if Operator==\"+\":\n",
    "        C = A + B\n",
    "    elif Operator==\"-\":\n",
    "         C = A - B\n",
    "    elif Operator==\"*\":\n",
    "        C = A*B\n",
    "    elif Operator==\"/\":\n",
    "        C = A/B\n",
    "    return C\n",
    "\n",
    "print(MathFunction(10,20,\"+\"))\n",
    "print(MathFunction(10,20,\"-\"))\n",
    "print(MathFunction(10,20,\"*\"))\n",
    "print(MathFunction(10,20,\"/\"))"
   ]
  },
  {
   "cell_type": "code",
   "execution_count": 14,
   "id": "lyric-nowhere",
   "metadata": {},
   "outputs": [
    {
     "name": "stdout",
     "output_type": "stream",
     "text": [
      "Its a float\n",
      "Its a integer\n",
      "Its a string\n"
     ]
    }
   ],
   "source": [
    "def CheckDataType(X):\n",
    "    if type(X)==str:\n",
    "        print(\"Its a string\")\n",
    "    elif type(X)==int:\n",
    "        print(\"Its a integer\")\n",
    "    elif type(X)==float:\n",
    "        print(\"Its a float\")\n",
    "        \n",
    "CheckDataType(4.5)\n",
    "CheckDataType(4)\n",
    "CheckDataType(\"Pk\")"
   ]
  },
  {
   "cell_type": "code",
   "execution_count": 47,
   "id": "passive-narrative",
   "metadata": {},
   "outputs": [
    {
     "name": "stdout",
     "output_type": "stream",
     "text": [
      "[5, 6, 7, 8, 9]\n",
      "[5, 6, 7, 8, 9, 'sTR']\n",
      "[5, 6, 7, 8, 9, 'sTR', 4.5]\n"
     ]
    }
   ],
   "source": [
    "def AddtoArray(X,N):\n",
    "    X.append(N)\n",
    "    return X\n",
    "ArrayA = [5,6,7,8]\n",
    "print(AddtoArray(ArrayA,9))\n",
    "print(AddtoArray(ArrayA,\"sTR\"))\n",
    "print(AddtoArray(ArrayA,4.5))"
   ]
  },
  {
   "cell_type": "code",
   "execution_count": 34,
   "id": "manufactured-apparel",
   "metadata": {},
   "outputs": [
    {
     "name": "stdout",
     "output_type": "stream",
     "text": [
      "{5: 4, 6: 5, 7: 6, 8: 7, 9: 10}\n",
      "{5: 4, 6: 5, 7: 6, 8: 7, 9: 10, 'sTR': 'Check'}\n",
      "{5: 4, 6: 5, 7: 6, 8: 7, 9: 10, 'sTR': 'Check', 4.5: 'float'}\n"
     ]
    }
   ],
   "source": [
    "def AddtoDictionary(X,key,value):\n",
    "    X[key]=value\n",
    "    return X\n",
    "DictA = {5:4,6:5,7:6,8:7}\n",
    "print(AddtoDictionary(DictA,9,10))\n",
    "print(AddtoDictionary(DictA,\"sTR\",\"Check\"))\n",
    "print(AddtoDictionary(DictA,4.5,'float'))"
   ]
  },
  {
   "cell_type": "code",
   "execution_count": 32,
   "id": "black-vanilla",
   "metadata": {},
   "outputs": [
    {
     "name": "stdout",
     "output_type": "stream",
     "text": [
      "32\n"
     ]
    }
   ],
   "source": [
    "def PowerFunction(num,power):\n",
    "    result=1\n",
    "    for i in range(power):\n",
    "        result = result * num\n",
    "    return result\n",
    "\n",
    "print(PowerFunction(2,5))"
   ]
  },
  {
   "cell_type": "code",
   "execution_count": 39,
   "id": "sophisticated-purse",
   "metadata": {},
   "outputs": [
    {
     "data": {
      "text/html": [
       "<div>\n",
       "<style scoped>\n",
       "    .dataframe tbody tr th:only-of-type {\n",
       "        vertical-align: middle;\n",
       "    }\n",
       "\n",
       "    .dataframe tbody tr th {\n",
       "        vertical-align: top;\n",
       "    }\n",
       "\n",
       "    .dataframe thead th {\n",
       "        text-align: right;\n",
       "    }\n",
       "</style>\n",
       "<table border=\"1\" class=\"dataframe\">\n",
       "  <thead>\n",
       "    <tr style=\"text-align: right;\">\n",
       "      <th></th>\n",
       "      <th>5</th>\n",
       "      <th>6</th>\n",
       "      <th>7</th>\n",
       "      <th>8</th>\n",
       "      <th>9</th>\n",
       "      <th>sTR</th>\n",
       "      <th>4.5</th>\n",
       "    </tr>\n",
       "  </thead>\n",
       "  <tbody>\n",
       "    <tr>\n",
       "      <th>0</th>\n",
       "      <td>4</td>\n",
       "      <td>5</td>\n",
       "      <td>6</td>\n",
       "      <td>7</td>\n",
       "      <td>10</td>\n",
       "      <td>Check</td>\n",
       "      <td>float</td>\n",
       "    </tr>\n",
       "  </tbody>\n",
       "</table>\n",
       "</div>"
      ],
      "text/plain": [
       "   5  6  7  8   9    sTR    4.5\n",
       "0  4  5  6  7  10  Check  float"
      ]
     },
     "execution_count": 39,
     "metadata": {},
     "output_type": "execute_result"
    }
   ],
   "source": [
    "type(DictA)\n",
    "import pandas as pd\n",
    "df = pd.DataFrame(data=DictA,index=[0])\n",
    "df"
   ]
  },
  {
   "cell_type": "code",
   "execution_count": 54,
   "id": "unique-discount",
   "metadata": {},
   "outputs": [
    {
     "name": "stdout",
     "output_type": "stream",
     "text": [
      "     a\n",
      "0    5\n",
      "1    6\n",
      "2    7\n",
      "3    8\n",
      "4    9\n",
      "5  sTR\n",
      "6  4.5\n"
     ]
    }
   ],
   "source": [
    "import numpy as np\n",
    "df2 = pd.DataFrame(ArrayA,columns=['a'])\n",
    "print(df2)"
   ]
  },
  {
   "cell_type": "code",
   "execution_count": 65,
   "id": "spanish-section",
   "metadata": {},
   "outputs": [
    {
     "data": {
      "text/plain": [
       "-1005"
      ]
     },
     "execution_count": 65,
     "metadata": {},
     "output_type": "execute_result"
    }
   ],
   "source": [
    "def ReverseInteger(Num):\n",
    "   if Num<0:\n",
    "        Num1 = Num*-1\n",
    "   else:\n",
    "        Num1=Num\n",
    "   StringNum = str(Num1)\n",
    "   ReverseString = StringNum[::-1]\n",
    "   ReverseNum = int(ReverseString)\n",
    "   if Num<0:\n",
    "        ReverseNum=ReverseNum*-1\n",
    "   return ReverseNum\n",
    "\n",
    "ReverseInteger(-5001)    "
   ]
  }
 ],
 "metadata": {
  "kernelspec": {
   "display_name": "Python 3",
   "language": "python",
   "name": "python3"
  },
  "language_info": {
   "codemirror_mode": {
    "name": "ipython",
    "version": 3
   },
   "file_extension": ".py",
   "mimetype": "text/x-python",
   "name": "python",
   "nbconvert_exporter": "python",
   "pygments_lexer": "ipython3",
   "version": "3.7.8"
  }
 },
 "nbformat": 4,
 "nbformat_minor": 5
}
