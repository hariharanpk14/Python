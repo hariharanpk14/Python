{
 "cells": [
  {
   "cell_type": "code",
   "execution_count": 1,
   "id": "decreased-infrared",
   "metadata": {},
   "outputs": [
    {
     "name": "stdout",
     "output_type": "stream",
     "text": [
      "Hello World!!\n"
     ]
    }
   ],
   "source": [
    "print(\"Hello World!!\")"
   ]
  },
  {
   "cell_type": "code",
   "execution_count": 7,
   "id": "congressional-neutral",
   "metadata": {},
   "outputs": [
    {
     "name": "stdout",
     "output_type": "stream",
     "text": [
      "30\n",
      "-10\n",
      "200\n",
      "0.5\n"
     ]
    }
   ],
   "source": [
    "def MathFunction(A,B,Operator):\n",
    "    if Operator==\"+\":\n",
    "        C = A + B\n",
    "    elif Operator==\"-\":\n",
    "         C = A - B\n",
    "    elif Operator==\"*\":\n",
    "        C = A*B\n",
    "    elif Operator==\"/\":\n",
    "        C = A/B\n",
    "    return C\n",
    "\n",
    "print(MathFunction(10,20,\"+\"))\n",
    "print(MathFunction(10,20,\"-\"))\n",
    "print(MathFunction(10,20,\"*\"))\n",
    "print(MathFunction(10,20,\"/\"))"
   ]
  },
  {
   "cell_type": "code",
   "execution_count": 14,
   "id": "monthly-active",
   "metadata": {},
   "outputs": [
    {
     "name": "stdout",
     "output_type": "stream",
     "text": [
      "Its a float\n",
      "Its a integer\n",
      "Its a string\n"
     ]
    }
   ],
   "source": [
    "def CheckDataType(X):\n",
    "    if type(X)==str:\n",
    "        print(\"Its a string\")\n",
    "    elif type(X)==int:\n",
    "        print(\"Its a integer\")\n",
    "    elif type(X)==float:\n",
    "        print(\"Its a float\")\n",
    "        \n",
    "CheckDataType(4.5)\n",
    "CheckDataType(4)\n",
    "CheckDataType(\"Pk\")"
   ]
  },
  {
   "cell_type": "code",
   "execution_count": 22,
   "id": "hourly-insert",
   "metadata": {},
   "outputs": [
    {
     "name": "stdout",
     "output_type": "stream",
     "text": [
      "[5, 6, 7, 8, 9]\n",
      "[5, 6, 7, 8, 9, 'sTR']\n",
      "[5, 6, 7, 8, 9, 'sTR', 4.5]\n"
     ]
    }
   ],
   "source": [
    "def AddtoArray(X,N):\n",
    "    X.append(N)\n",
    "    return X\n",
    "ArrayA = [5,6,7,8]\n",
    "print(AddtoArray(ArrayA,9))\n",
    "print(AddtoArray(ArrayA,\"sTR\"))\n",
    "print(AddtoArray(ArrayA,4.5))"
   ]
  },
  {
   "cell_type": "code",
   "execution_count": 28,
   "id": "committed-stress",
   "metadata": {},
   "outputs": [
    {
     "name": "stdout",
     "output_type": "stream",
     "text": [
      "{5: 4, 6: 5, 7: 6, 8: 7, 9: 10}\n",
      "{5: 4, 6: 5, 7: 6, 8: 7, 9: 10, 'sTR': 'Check'}\n",
      "{5: 4, 6: 5, 7: 6, 8: 7, 9: 10, 'sTR': 'Check', 4.5: 'float'}\n"
     ]
    }
   ],
   "source": [
    "def AddtoDictionary(X,key,value):\n",
    "    X[key]=value\n",
    "    return X\n",
    "ArrayA = {5:4,6:5,7:6,8:7}\n",
    "print(AddtoDictionary(ArrayA,9,10))\n",
    "print(AddtoDictionary(ArrayA,\"sTR\",\"Check\"))\n",
    "print(AddtoDictionary(ArrayA,4.5,'float'))"
   ]
  },
  {
   "cell_type": "code",
   "execution_count": null,
   "id": "alone-chapel",
   "metadata": {},
   "outputs": [],
   "source": []
  }
 ],
 "metadata": {
  "kernelspec": {
   "display_name": "Python 3",
   "language": "python",
   "name": "python3"
  },
  "language_info": {
   "codemirror_mode": {
    "name": "ipython",
    "version": 3
   },
   "file_extension": ".py",
   "mimetype": "text/x-python",
   "name": "python",
   "nbconvert_exporter": "python",
   "pygments_lexer": "ipython3",
   "version": "3.7.8"
  }
 },
 "nbformat": 4,
 "nbformat_minor": 5
}
